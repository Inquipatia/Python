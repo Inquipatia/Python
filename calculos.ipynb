{
  "nbformat": 4,
  "nbformat_minor": 0,
  "metadata": {
    "colab": {
      "provenance": [],
      "authorship_tag": "ABX9TyO/fk4l1KRlfl9B8OmpUNjt",
      "include_colab_link": true
    },
    "kernelspec": {
      "name": "python3",
      "display_name": "Python 3"
    },
    "language_info": {
      "name": "python"
    }
  },
  "cells": [
    {
      "cell_type": "markdown",
      "metadata": {
        "id": "view-in-github",
        "colab_type": "text"
      },
      "source": [
        "<a href=\"https://colab.research.google.com/github/Inquipatia/Python/blob/main/calculos.ipynb\" target=\"_parent\"><img src=\"https://colab.research.google.com/assets/colab-badge.svg\" alt=\"Open In Colab\"/></a>"
      ]
    },
    {
      "cell_type": "code",
      "execution_count": null,
      "metadata": {
        "id": "Ay6Kgz3ZJd8m"
      },
      "outputs": [],
      "source": []
    },
    {
      "cell_type": "markdown",
      "source": [
        "# Ejercicio 1\n",
        " Calcula la división entera de 45 entre 6\n",
        "\n",
        "\n"
      ],
      "metadata": {
        "id": "0Xi_MsGx5ZH0"
      }
    },
    {
      "cell_type": "code",
      "source": [
        "x = 45 // 6\n",
        "x"
      ],
      "metadata": {
        "colab": {
          "base_uri": "https://localhost:8080/"
        },
        "id": "CV5Cvbph69NL",
        "outputId": "b4b26fdf-9f5d-4435-dc82-180187496484"
      },
      "execution_count": 2,
      "outputs": [
        {
          "output_type": "execute_result",
          "data": {
            "text/plain": [
              "7"
            ]
          },
          "metadata": {},
          "execution_count": 2
        }
      ]
    },
    {
      "cell_type": "markdown",
      "source": [
        "# Ejercicio 2\n",
        " Calcula el resto de la división entera de 45 entre 6\n"
      ],
      "metadata": {
        "id": "wx_-_kNS6Nx7"
      }
    },
    {
      "cell_type": "code",
      "source": [
        "x = 45 % 6\n",
        "x"
      ],
      "metadata": {
        "colab": {
          "base_uri": "https://localhost:8080/"
        },
        "id": "JCUStpZ87Nmh",
        "outputId": "a5ad20ad-4163-4945-edf4-66d4ee65c9f5"
      },
      "execution_count": 3,
      "outputs": [
        {
          "output_type": "execute_result",
          "data": {
            "text/plain": [
              "3"
            ]
          },
          "metadata": {},
          "execution_count": 3
        }
      ]
    },
    {
      "cell_type": "markdown",
      "source": [
        "# Ejercicio 3\n",
        "\n",
        "\n"
      ],
      "metadata": {
        "id": "sHg_-bzHLrOW"
      }
    },
    {
      "cell_type": "code",
      "source": [
        "x = 10 + 20 // 7 - 2\n",
        "x"
      ],
      "metadata": {
        "colab": {
          "base_uri": "https://localhost:8080/"
        },
        "id": "_JcYT9v0MjOQ",
        "outputId": "bcfd47e6-b408-40d9-bf60-f442571503b9"
      },
      "execution_count": 4,
      "outputs": [
        {
          "output_type": "execute_result",
          "data": {
            "text/plain": [
              "10"
            ]
          },
          "metadata": {},
          "execution_count": 4
        }
      ]
    },
    {
      "cell_type": "markdown",
      "source": [
        "# Ejercicio 4"
      ],
      "metadata": {
        "id": "4SCdl8YILuxh"
      }
    },
    {
      "cell_type": "code",
      "source": [
        "x = (9 - (25 + 5-2) // (7 * 4)) // 2 ** 3\n",
        "x"
      ],
      "metadata": {
        "colab": {
          "base_uri": "https://localhost:8080/"
        },
        "id": "-zU33PmFNFMf",
        "outputId": "900ff3e3-6c40-44ea-eac2-6cf7e040e061"
      },
      "execution_count": 9,
      "outputs": [
        {
          "output_type": "execute_result",
          "data": {
            "text/plain": [
              "1"
            ]
          },
          "metadata": {},
          "execution_count": 9
        }
      ]
    },
    {
      "cell_type": "markdown",
      "source": [
        "# Ejercicio 5"
      ],
      "metadata": {
        "id": "_Gbi1E_hL0Ss"
      }
    },
    {
      "cell_type": "code",
      "source": [
        "(2 + 2 ** 3 - 2 * (2 - 2 ** 5) + 2 ** 2 * 2 +2 ) // (2 * (2 * 2 - 2 ** 4) + 2 ** 2)"
      ],
      "metadata": {
        "colab": {
          "base_uri": "https://localhost:8080/"
        },
        "id": "oWQrScuAQ-94",
        "outputId": "f30ae32c-324e-4d2f-fa4f-5c2fd2af26bc"
      },
      "execution_count": 10,
      "outputs": [
        {
          "output_type": "execute_result",
          "data": {
            "text/plain": [
              "-4"
            ]
          },
          "metadata": {},
          "execution_count": 10
        }
      ]
    },
    {
      "cell_type": "markdown",
      "source": [
        "# Ejercicio 6"
      ],
      "metadata": {
        "id": "avALYJUYL3JI"
      }
    },
    {
      "cell_type": "code",
      "source": [
        "6j - (4 + 1j) * 2"
      ],
      "metadata": {
        "colab": {
          "base_uri": "https://localhost:8080/"
        },
        "id": "JEo36-p9S8mt",
        "outputId": "3a74765d-7c4a-4d3d-b0cd-5c41c8435cea"
      },
      "execution_count": 12,
      "outputs": [
        {
          "output_type": "execute_result",
          "data": {
            "text/plain": [
              "(-8+4j)"
            ]
          },
          "metadata": {},
          "execution_count": 12
        }
      ]
    },
    {
      "cell_type": "markdown",
      "source": [
        "# Ejercicio 7"
      ],
      "metadata": {
        "id": "jUMEMLdkL7uZ"
      }
    },
    {
      "cell_type": "code",
      "source": [
        "((1 + 1j) / (1 - 1j)) + ((2) / (-1 + 1j))"
      ],
      "metadata": {
        "colab": {
          "base_uri": "https://localhost:8080/"
        },
        "id": "syFniKs_TRDk",
        "outputId": "6e192e8a-47a3-40d1-e38a-9561662a5eb5"
      },
      "execution_count": 14,
      "outputs": [
        {
          "output_type": "execute_result",
          "data": {
            "text/plain": [
              "(-1+0j)"
            ]
          },
          "metadata": {},
          "execution_count": 14
        }
      ]
    },
    {
      "cell_type": "markdown",
      "source": [
        "# Ejercicio 8"
      ],
      "metadata": {
        "id": "QPuH4JHkL_B2"
      }
    },
    {
      "cell_type": "code",
      "source": [
        "pow(1 + 1j, 2)"
      ],
      "metadata": {
        "colab": {
          "base_uri": "https://localhost:8080/"
        },
        "id": "SUtJuFWoUj0x",
        "outputId": "d6419778-75ad-4635-fd5e-1e8d0d8fcfd9"
      },
      "execution_count": 16,
      "outputs": [
        {
          "output_type": "execute_result",
          "data": {
            "text/plain": [
              "2j"
            ]
          },
          "metadata": {},
          "execution_count": 16
        }
      ]
    },
    {
      "cell_type": "markdown",
      "source": [
        "# Ejercicio 9\n",
        " Realiza la siguiente operación en Python, donde Mod(z) indica módulo del complejo z"
      ],
      "metadata": {
        "id": "O0fwCHKpMAug"
      }
    },
    {
      "cell_type": "code",
      "source": [
        "abs((9 - 3j) / (-2 -1j))"
      ],
      "metadata": {
        "colab": {
          "base_uri": "https://localhost:8080/"
        },
        "id": "bJzjJ-qtV-xg",
        "outputId": "32c31ce7-04f3-458b-acc3-c7245a38dbc0"
      },
      "execution_count": 17,
      "outputs": [
        {
          "output_type": "execute_result",
          "data": {
            "text/plain": [
              "4.242640687119285"
            ]
          },
          "metadata": {},
          "execution_count": 17
        }
      ]
    },
    {
      "cell_type": "markdown",
      "source": [
        "# Ejercicio 10\n",
        "Cual es el argumento del número complejo i?"
      ],
      "metadata": {
        "id": "Q0x1XRBFMCgr"
      }
    },
    {
      "cell_type": "code",
      "source": [
        "from cmath import phase as p\n",
        "p(1j)"
      ],
      "metadata": {
        "colab": {
          "base_uri": "https://localhost:8080/"
        },
        "id": "zzz1Nm2KWgm1",
        "outputId": "2c3aba88-59d2-49af-8272-e80977cf6974"
      },
      "execution_count": 18,
      "outputs": [
        {
          "output_type": "execute_result",
          "data": {
            "text/plain": [
              "1.5707963267948966"
            ]
          },
          "metadata": {},
          "execution_count": 18
        }
      ]
    }
  ]
}